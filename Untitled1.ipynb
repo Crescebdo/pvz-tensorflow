{
  "nbformat": 4,
  "nbformat_minor": 0,
  "metadata": {
    "colab": {
      "name": "Untitled1.ipynb",
      "provenance": [],
      "authorship_tag": "ABX9TyPKmOuoMgdF6bHNrr2TIZUK",
      "include_colab_link": true
    },
    "kernelspec": {
      "name": "python3",
      "display_name": "Python 3"
    },
    "language_info": {
      "name": "python"
    }
  },
  "cells": [
    {
      "cell_type": "markdown",
      "metadata": {
        "id": "view-in-github",
        "colab_type": "text"
      },
      "source": [
        "<a href=\"https://colab.research.google.com/github/Crescebdo/pvz-tensorflow/blob/main/Untitled1.ipynb\" target=\"_parent\"><img src=\"https://colab.research.google.com/assets/colab-badge.svg\" alt=\"Open In Colab\"/></a>"
      ]
    },
    {
      "cell_type": "code",
      "execution_count": 3,
      "metadata": {
        "colab": {
          "base_uri": "https://localhost:8080/"
        },
        "id": "glEN2YCgbQAb",
        "outputId": "9ac45abf-fcb0-4f9d-feb5-8a139e5e4f2b"
      },
      "outputs": [
        {
          "output_type": "stream",
          "name": "stdout",
          "text": [
            "Mounted at /content/drive\n"
          ]
        }
      ],
      "source": [
        "from google.colab import drive\n",
        "drive.mount('/content/drive', force_remount=True)"
      ]
    },
    {
      "cell_type": "code",
      "source": [
        "import os\n",
        "\n",
        "os.environ[\"TF_CPP_MIN_LOG_LEVEL\"] = \"2\"\n",
        "import tensorflow as tf\n",
        "from tensorflow import keras\n",
        "from tensorflow.keras import layers\n",
        "from tensorflow.keras.preprocessing.image import ImageDataGenerator"
      ],
      "metadata": {
        "id": "Yh1ILaYse48A"
      },
      "execution_count": 4,
      "outputs": []
    },
    {
      "cell_type": "code",
      "source": [
        "img_height = 100\n",
        "img_width = 80\n",
        "batch_size = 2"
      ],
      "metadata": {
        "id": "nxOn2UoyfUpF"
      },
      "execution_count": 5,
      "outputs": []
    },
    {
      "cell_type": "code",
      "source": [
        "ds_train = tf.keras.preprocessing.image_dataset_from_directory(\n",
        "    '/content/drive/MyDrive/ize-tensorflow/data1',\n",
        "    labels=\"inferred\",\n",
        "    label_mode=\"int\",  # categorical, binary\n",
        "    # class_names=['0', '1', '2', '3', ...]\n",
        "    color_mode=\"rgb\",\n",
        "    batch_size=batch_size,\n",
        "    image_size=(img_height, img_width),  # reshape if not in this size\n",
        "    shuffle=True,\n",
        "    seed=123,\n",
        "    validation_split=0.2,\n",
        "    subset=\"training\",\n",
        ")"
      ],
      "metadata": {
        "colab": {
          "base_uri": "https://localhost:8080/"
        },
        "id": "fbRea0fFfbV2",
        "outputId": "c47093ec-5463-44a2-9027-a693d0e994cc"
      },
      "execution_count": 47,
      "outputs": [
        {
          "output_type": "stream",
          "name": "stdout",
          "text": [
            "Found 500 files belonging to 20 classes.\n",
            "Using 400 files for training.\n"
          ]
        }
      ]
    },
    {
      "cell_type": "code",
      "source": [
        "ds_validation = tf.keras.preprocessing.image_dataset_from_directory(\n",
        "    '/content/drive/MyDrive/ize-tensorflow/data1',\n",
        "    labels=\"inferred\",\n",
        "    label_mode=\"int\",  # categorical, binary\n",
        "    # class_names=['0', '1', '2', '3', ...]\n",
        "    color_mode=\"rgb\",\n",
        "    batch_size=batch_size,\n",
        "    image_size=(img_height, img_width),  # reshape if not in this size\n",
        "    shuffle=True,\n",
        "    seed=123,\n",
        "    validation_split=0.2,\n",
        "    subset=\"validation\",\n",
        ")"
      ],
      "metadata": {
        "colab": {
          "base_uri": "https://localhost:8080/"
        },
        "outputId": "25bad0d1-7370-4dbc-8ffb-70158c6597bc",
        "id": "DqzQ-cEhgsEB"
      },
      "execution_count": 48,
      "outputs": [
        {
          "output_type": "stream",
          "name": "stdout",
          "text": [
            "Found 500 files belonging to 20 classes.\n",
            "Using 100 files for validation.\n"
          ]
        }
      ]
    },
    {
      "cell_type": "code",
      "source": [
        "model = tf.keras.Sequential([\n",
        "      layers.Input((100, 80, 3)),\n",
        "        layers.Conv2D(16, 3, padding=\"same\"),\n",
        "        layers.Conv2D(32, 3, padding=\"same\"),\n",
        "        layers.MaxPooling2D(),\n",
        "        layers.Flatten(),\n",
        "        layers.Dense(20),\n",
        "])"
      ],
      "metadata": {
        "id": "rfP8mRulhguB"
      },
      "execution_count": 49,
      "outputs": []
    },
    {
      "cell_type": "code",
      "source": [
        "model.compile(optimizer='adam',\n",
        "              loss=tf.keras.losses.SparseCategoricalCrossentropy(from_logits=True),\n",
        "              metrics=['accuracy'])"
      ],
      "metadata": {
        "id": "ZITsNFxQjHdA"
      },
      "execution_count": 50,
      "outputs": []
    },
    {
      "cell_type": "code",
      "source": [
        "model.fit(ds_train, epochs=10, verbose=2)"
      ],
      "metadata": {
        "colab": {
          "base_uri": "https://localhost:8080/"
        },
        "id": "1F2M3zt7jMDO",
        "outputId": "16d3a9cf-3193-49fc-b358-c5c062376a22"
      },
      "execution_count": 51,
      "outputs": [
        {
          "output_type": "stream",
          "name": "stdout",
          "text": [
            "Epoch 1/10\n",
            "200/200 - 7s - loss: 116.5606 - accuracy: 0.8450 - 7s/epoch - 35ms/step\n",
            "Epoch 2/10\n",
            "200/200 - 7s - loss: 63.4287 - accuracy: 0.9175 - 7s/epoch - 33ms/step\n",
            "Epoch 3/10\n",
            "200/200 - 7s - loss: 14.4725 - accuracy: 0.9825 - 7s/epoch - 34ms/step\n",
            "Epoch 4/10\n",
            "200/200 - 7s - loss: 0.0000e+00 - accuracy: 1.0000 - 7s/epoch - 33ms/step\n",
            "Epoch 5/10\n",
            "200/200 - 7s - loss: 0.0000e+00 - accuracy: 1.0000 - 7s/epoch - 33ms/step\n",
            "Epoch 6/10\n",
            "200/200 - 7s - loss: 0.0000e+00 - accuracy: 1.0000 - 7s/epoch - 33ms/step\n",
            "Epoch 7/10\n",
            "200/200 - 7s - loss: 0.0000e+00 - accuracy: 1.0000 - 7s/epoch - 33ms/step\n",
            "Epoch 8/10\n",
            "200/200 - 7s - loss: 0.0000e+00 - accuracy: 1.0000 - 7s/epoch - 33ms/step\n",
            "Epoch 9/10\n",
            "200/200 - 7s - loss: 0.0000e+00 - accuracy: 1.0000 - 7s/epoch - 34ms/step\n",
            "Epoch 10/10\n",
            "200/200 - 7s - loss: 0.0000e+00 - accuracy: 1.0000 - 7s/epoch - 33ms/step\n"
          ]
        },
        {
          "output_type": "execute_result",
          "data": {
            "text/plain": [
              "<keras.callbacks.History at 0x7f9995278710>"
            ]
          },
          "metadata": {},
          "execution_count": 51
        }
      ]
    },
    {
      "cell_type": "code",
      "source": [
        "test_loss, test_acc = model.evaluate(ds_validation, verbose=2)\n",
        "\n",
        "print('\\nTest accuracy:', test_acc)"
      ],
      "metadata": {
        "colab": {
          "base_uri": "https://localhost:8080/"
        },
        "id": "hXykaMg2kzXg",
        "outputId": "dafc8661-b1cc-498f-c15e-4775b90cdd10"
      },
      "execution_count": 52,
      "outputs": [
        {
          "output_type": "stream",
          "name": "stdout",
          "text": [
            "50/50 - 1s - loss: 0.0000e+00 - accuracy: 1.0000 - 612ms/epoch - 12ms/step\n",
            "\n",
            "Test accuracy: 1.0\n"
          ]
        }
      ]
    },
    {
      "cell_type": "code",
      "source": [
        "!mkdir -p saved_model\n",
        "model.save('saved_model/my_model')"
      ],
      "metadata": {
        "colab": {
          "base_uri": "https://localhost:8080/"
        },
        "id": "zF-CB8rrp_cu",
        "outputId": "688091a7-6b1e-4316-cd47-123601dcff0e"
      },
      "execution_count": 54,
      "outputs": [
        {
          "output_type": "stream",
          "name": "stdout",
          "text": [
            "INFO:tensorflow:Assets written to: saved_model/my_model/assets\n"
          ]
        }
      ]
    },
    {
      "cell_type": "code",
      "source": [
        "new_model = tf.keras.models.load_model('saved_model/my_model')\n",
        "loss, acc = new_model.evaluate(ds_train, verbose=2)\n",
        "print('Restored model, accuracy: {:5.2f}%'.format(100 * acc))\n"
      ],
      "metadata": {
        "colab": {
          "base_uri": "https://localhost:8080/"
        },
        "id": "LNDT0Fifrr0Y",
        "outputId": "12327093-4050-423a-a1b5-61f75e3842d3"
      },
      "execution_count": 55,
      "outputs": [
        {
          "output_type": "stream",
          "name": "stdout",
          "text": [
            "200/200 - 2s - loss: 0.0000e+00 - accuracy: 1.0000 - 2s/epoch - 10ms/step\n",
            "Restored model, accuracy: 100.00%\n"
          ]
        }
      ]
    }
  ]
}